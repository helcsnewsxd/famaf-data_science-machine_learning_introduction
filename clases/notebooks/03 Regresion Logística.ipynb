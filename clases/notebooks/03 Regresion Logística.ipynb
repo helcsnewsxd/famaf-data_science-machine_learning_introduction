{
 "cells": [
  {
   "cell_type": "markdown",
   "metadata": {},
   "source": [
    "# 3. Regresión Logística\n",
    "Entrenaremos usando scikit-learn una regresión logística para clasificar dígitos manuscritos."
   ]
  },
  {
   "cell_type": "code",
   "execution_count": 2,
   "metadata": {},
   "outputs": [],
   "source": [
    "import numpy as np\n",
    "import matplotlib.pyplot as plt\n",
    "\n",
    "np.set_printoptions(suppress=True)  # no usar notacion \"e\""
   ]
  },
  {
   "cell_type": "markdown",
   "metadata": {},
   "source": [
    "## Conjunto de Datos\n",
    "\n",
    "Usaremos el [\"digits dataset\"](https://scikit-learn.org/stable/modules/generated/sklearn.datasets.load_digits.html) que viene con scikit-learn.\n"
   ]
  },
  {
   "cell_type": "code",
   "execution_count": 3,
   "metadata": {
    "scrolled": true
   },
   "outputs": [
    {
     "data": {
      "image/png": "[encoded data removed]",
      "text/plain": [
       "<Figure size 300x300 with 1 Axes>"
      ]
     },
     "metadata": {},
     "output_type": "display_data"
    }
   ],
   "source": [
    "from sklearn import datasets\n",
    "\n",
    "# Cargamos el dataset entero:\n",
    "digits = datasets.load_digits()\n",
    "\n",
    "#Display the first digit\n",
    "plt.figure(1, figsize=(3, 3))\n",
    "plt.imshow(digits.images[1], cmap=plt.cm.gray_r, interpolation='nearest')\n",
    "plt.show()"
   ]
  },
  {
   "cell_type": "code",
   "execution_count": 4,
   "metadata": {},
   "outputs": [
    {
     "data": {
      "text/plain": [
       "1"
      ]
     },
     "execution_count": 4,
     "metadata": {},
     "output_type": "execute_result"
    }
   ],
   "source": [
    "digits.target[1]"
   ]
  },
  {
   "cell_type": "code",
   "execution_count": 5,
   "metadata": {},
   "outputs": [
    {
     "data": {
      "text/plain": [
       "array([[ 0.,  0.,  0., 12., 13.,  5.,  0.,  0.],\n",
       "       [ 0.,  0.,  0., 11., 16.,  9.,  0.,  0.],\n",
       "       [ 0.,  0.,  3., 15., 16.,  6.,  0.,  0.],\n",
       "       [ 0.,  7., 15., 16., 16.,  2.,  0.,  0.],\n",
       "       [ 0.,  0.,  1., 16., 16.,  3.,  0.,  0.],\n",
       "       [ 0.,  0.,  1., 16., 16.,  6.,  0.,  0.],\n",
       "       [ 0.,  0.,  1., 16., 16.,  6.,  0.,  0.],\n",
       "       [ 0.,  0.,  0., 11., 16., 10.,  0.,  0.]])"
      ]
     },
     "execution_count": 5,
     "metadata": {},
     "output_type": "execute_result"
    }
   ],
   "source": [
    "digits.images[1]"
   ]
  },
  {
   "cell_type": "code",
   "execution_count": 6,
   "metadata": {},
   "outputs": [],
   "source": [
    "# Cargamos sólo vectores X e y:\n",
    "X, y = datasets.load_digits(return_X_y=True)"
   ]
  },
  {
   "cell_type": "code",
   "execution_count": 7,
   "metadata": {},
   "outputs": [
    {
     "data": {
      "text/plain": [
       "(1797, 64)"
      ]
     },
     "execution_count": 7,
     "metadata": {},
     "output_type": "execute_result"
    }
   ],
   "source": [
    "X.shape"
   ]
  },
  {
   "cell_type": "code",
   "execution_count": 8,
   "metadata": {},
   "outputs": [
    {
     "data": {
      "text/plain": [
       "Counter({3: 183,\n",
       "         1: 182,\n",
       "         5: 182,\n",
       "         4: 181,\n",
       "         6: 181,\n",
       "         9: 180,\n",
       "         7: 179,\n",
       "         0: 178,\n",
       "         2: 177,\n",
       "         8: 174})"
      ]
     },
     "execution_count": 8,
     "metadata": {},
     "output_type": "execute_result"
    }
   ],
   "source": [
    "# Cuántas imágenes hay para cada dígito?\n",
    "from collections import Counter\n",
    "\n",
    "Counter(y)"
   ]
  },
  {
   "cell_type": "markdown",
   "metadata": {},
   "source": [
    "## División en Entrenamiento y Evaluación\n",
    "\n",
    "Dividiremos aleatoriamente los datos en una parte para entrenamiento (80%) y otra para evaluación (20%).\n",
    "\n",
    "Usaremos \n",
    "[train_test_split](https://scikit-learn.org/stable/modules/generated/sklearn.model_selection.train_test_split.html) de scikit-learn:"
   ]
  },
  {
   "cell_type": "code",
   "execution_count": 9,
   "metadata": {},
   "outputs": [],
   "source": [
    "from sklearn.model_selection import train_test_split\n",
    "\n",
    "X_train, X_val, y_train, y_val = train_test_split(X, y, train_size=0.8, random_state=0)"
   ]
  },
  {
   "cell_type": "code",
   "execution_count": 10,
   "metadata": {},
   "outputs": [
    {
     "data": {
      "text/plain": [
       "((1437, 64), (360, 64))"
      ]
     },
     "execution_count": 10,
     "metadata": {},
     "output_type": "execute_result"
    }
   ],
   "source": [
    "X_train.shape, X_val.shape"
   ]
  },
  {
   "cell_type": "markdown",
   "metadata": {},
   "source": [
    "## Instanciar y Entrenar"
   ]
  },
  {
   "cell_type": "code",
   "execution_count": 48,
   "metadata": {},
   "outputs": [
    {
     "data": {
      "text/html": [
       "<style>#sk-container-id-5 {\n",
       "  /* Definition of color scheme common for light and dark mode */\n",
       "  --sklearn-color-text: black;\n",
       "  --sklearn-color-line: gray;\n",
       "  /* Definition of color scheme for unfitted estimators */\n",
       "  --sklearn-color-unfitted-level-0: #fff5e6;\n",
       "  --sklearn-color-unfitted-level-1: #f6e4d2;\n",
       "  --sklearn-color-unfitted-level-2: #ffe0b3;\n",
       "  --sklearn-color-unfitted-level-3: chocolate;\n",
       "  /* Definition of color scheme for fitted estimators */\n",
       "  --sklearn-color-fitted-level-0: #f0f8ff;\n",
       "  --sklearn-color-fitted-level-1: #d4ebff;\n",
       "  --sklearn-color-fitted-level-2: #b3dbfd;\n",
       "  --sklearn-color-fitted-level-3: cornflowerblue;\n",
       "\n",
       "  /* Specific color for light theme */\n",
       "  --sklearn-color-text-on-default-background: var(--sg-text-color, var(--theme-code-foreground, var(--jp-content-font-color1, black)));\n",
       "  --sklearn-color-background: var(--sg-background-color, var(--theme-background, var(--jp-layout-color0, white)));\n",
       "  --sklearn-color-border-box: var(--sg-text-color, var(--theme-code-foreground, var(--jp-content-font-color1, black)));\n",
       "  --sklearn-color-icon: #696969;\n",
       "\n",
       "  @media (prefers-color-scheme: dark) {\n",
       "    /* Redefinition of color scheme for dark theme */\n",
       "    --sklearn-color-text-on-default-background: var(--sg-text-color, var(--theme-code-foreground, var(--jp-content-font-color1, white)));\n",
       "    --sklearn-color-background: var(--sg-background-color, var(--theme-background, var(--jp-layout-color0, #111)));\n",
       "    --sklearn-color-border-box: var(--sg-text-color, var(--theme-code-foreground, var(--jp-content-font-color1, white)));\n",
       "    --sklearn-color-icon: #878787;\n",
       "  }\n",
       "}\n",
       "\n",
       "#sk-container-id-5 {\n",
       "  color: var(--sklearn-color-text);\n",
       "}\n",
       "\n",
       "#sk-container-id-5 pre {\n",
       "  padding: 0;\n",
       "}\n",
       "\n",
       "#sk-container-id-5 input.sk-hidden--visually {\n",
       "  border: 0;\n",
       "  clip: rect(1px 1px 1px 1px);\n",
       "  clip: rect(1px, 1px, 1px, 1px);\n",
       "  height: 1px;\n",
       "  margin: -1px;\n",
       "  overflow: hidden;\n",
       "  padding: 0;\n",
       "  position: absolute;\n",
       "  width: 1px;\n",
       "}\n",
       "\n",
       "#sk-container-id-5 div.sk-dashed-wrapped {\n",
       "  border: 1px dashed var(--sklearn-color-line);\n",
       "  margin: 0 0.4em 0.5em 0.4em;\n",
       "  box-sizing: border-box;\n",
       "  padding-bottom: 0.4em;\n",
       "  background-color: var(--sklearn-color-background);\n",
       "}\n",
       "\n",
       "#sk-container-id-5 div.sk-container {\n",
       "  /* jupyter's `normalize.less` sets `[hidden] { display: none; }`\n",
       "     but bootstrap.min.css set `[hidden] { display: none !important; }`\n",
       "     so we also need the `!important` here to be able to override the\n",
       "     default hidden behavior on the sphinx rendered scikit-learn.org.\n",
       "     See: https://github.com/scikit-learn/scikit-learn/issues/21755 */\n",
       "  display: inline-block !important;\n",
       "  position: relative;\n",
       "}\n",
       "\n",
       "#sk-container-id-5 div.sk-text-repr-fallback {\n",
       "  display: none;\n",
       "}\n",
       "\n",
       "div.sk-parallel-item,\n",
       "div.sk-serial,\n",
       "div.sk-item {\n",
       "  /* draw centered vertical line to link estimators */\n",
       "  background-image: linear-gradient(var(--sklearn-color-text-on-default-background), var(--sklearn-color-text-on-default-background));\n",
       "  background-size: 2px 100%;\n",
       "  background-repeat: no-repeat;\n",
       "  background-position: center center;\n",
       "}\n",
       "\n",
       "/* Parallel-specific style estimator block */\n",
       "\n",
       "#sk-container-id-5 div.sk-parallel-item::after {\n",
       "  content: \"\";\n",
       "  width: 100%;\n",
       "  border-bottom: 2px solid var(--sklearn-color-text-on-default-background);\n",
       "  flex-grow: 1;\n",
       "}\n",
       "\n",
       "#sk-container-id-5 div.sk-parallel {\n",
       "  display: flex;\n",
       "  align-items: stretch;\n",
       "  justify-content: center;\n",
       "  background-color: var(--sklearn-color-background);\n",
       "  position: relative;\n",
       "}\n",
       "\n",
       "#sk-container-id-5 div.sk-parallel-item {\n",
       "  display: flex;\n",
       "  flex-direction: column;\n",
       "}\n",
       "\n",
       "#sk-container-id-5 div.sk-parallel-item:first-child::after {\n",
       "  align-self: flex-end;\n",
       "  width: 50%;\n",
       "}\n",
       "\n",
       "#sk-container-id-5 div.sk-parallel-item:last-child::after {\n",
       "  align-self: flex-start;\n",
       "  width: 50%;\n",
       "}\n",
       "\n",
       "#sk-container-id-5 div.sk-parallel-item:only-child::after {\n",
       "  width: 0;\n",
       "}\n",
       "\n",
       "/* Serial-specific style estimator block */\n",
       "\n",
       "#sk-container-id-5 div.sk-serial {\n",
       "  display: flex;\n",
       "  flex-direction: column;\n",
       "  align-items: center;\n",
       "  background-color: var(--sklearn-color-background);\n",
       "  padding-right: 1em;\n",
       "  padding-left: 1em;\n",
       "}\n",
       "\n",
       "\n",
       "/* Toggleable style: style used for estimator/Pipeline/ColumnTransformer box that is\n",
       "clickable and can be expanded/collapsed.\n",
       "- Pipeline and ColumnTransformer use this feature and define the default style\n",
       "- Estimators will overwrite some part of the style using the `sk-estimator` class\n",
       "*/\n",
       "\n",
       "/* Pipeline and ColumnTransformer style (default) */\n",
       "\n",
       "#sk-container-id-5 div.sk-toggleable {\n",
       "  /* Default theme specific background. It is overwritten whether we have a\n",
       "  specific estimator or a Pipeline/ColumnTransformer */\n",
       "  background-color: var(--sklearn-color-background);\n",
       "}\n",
       "\n",
       "/* Toggleable label */\n",
       "#sk-container-id-5 label.sk-toggleable__label {\n",
       "  cursor: pointer;\n",
       "  display: block;\n",
       "  width: 100%;\n",
       "  margin-bottom: 0;\n",
       "  padding: 0.5em;\n",
       "  box-sizing: border-box;\n",
       "  text-align: center;\n",
       "}\n",
       "\n",
       "#sk-container-id-5 label.sk-toggleable__label-arrow:before {\n",
       "  /* Arrow on the left of the label */\n",
       "  content: \"▸\";\n",
       "  float: left;\n",
       "  margin-right: 0.25em;\n",
       "  color: var(--sklearn-color-icon);\n",
       "}\n",
       "\n",
       "#sk-container-id-5 label.sk-toggleable__label-arrow:hover:before {\n",
       "  color: var(--sklearn-color-text);\n",
       "}\n",
       "\n",
       "/* Toggleable content - dropdown */\n",
       "\n",
       "#sk-container-id-5 div.sk-toggleable__content {\n",
       "  max-height: 0;\n",
       "  max-width: 0;\n",
       "  overflow: hidden;\n",
       "  text-align: left;\n",
       "  /* unfitted */\n",
       "  background-color: var(--sklearn-color-unfitted-level-0);\n",
       "}\n",
       "\n",
       "#sk-container-id-5 div.sk-toggleable__content.fitted {\n",
       "  /* fitted */\n",
       "  background-color: var(--sklearn-color-fitted-level-0);\n",
       "}\n",
       "\n",
       "#sk-container-id-5 div.sk-toggleable__content pre {\n",
       "  margin: 0.2em;\n",
       "  border-radius: 0.25em;\n",
       "  color: var(--sklearn-color-text);\n",
       "  /* unfitted */\n",
       "  background-color: var(--sklearn-color-unfitted-level-0);\n",
       "}\n",
       "\n",
       "#sk-container-id-5 div.sk-toggleable__content.fitted pre {\n",
       "  /* unfitted */\n",
       "  background-color: var(--sklearn-color-fitted-level-0);\n",
       "}\n",
       "\n",
       "#sk-container-id-5 input.sk-toggleable__control:checked~div.sk-toggleable__content {\n",
       "  /* Expand drop-down */\n",
       "  max-height: 200px;\n",
       "  max-width: 100%;\n",
       "  overflow: auto;\n",
       "}\n",
       "\n",
       "#sk-container-id-5 input.sk-toggleable__control:checked~label.sk-toggleable__label-arrow:before {\n",
       "  content: \"▾\";\n",
       "}\n",
       "\n",
       "/* Pipeline/ColumnTransformer-specific style */\n",
       "\n",
       "#sk-container-id-5 div.sk-label input.sk-toggleable__control:checked~label.sk-toggleable__label {\n",
       "  color: var(--sklearn-color-text);\n",
       "  background-color: var(--sklearn-color-unfitted-level-2);\n",
       "}\n",
       "\n",
       "#sk-container-id-5 div.sk-label.fitted input.sk-toggleable__control:checked~label.sk-toggleable__label {\n",
       "  background-color: var(--sklearn-color-fitted-level-2);\n",
       "}\n",
       "\n",
       "/* Estimator-specific style */\n",
       "\n",
       "/* Colorize estimator box */\n",
       "#sk-container-id-5 div.sk-estimator input.sk-toggleable__control:checked~label.sk-toggleable__label {\n",
       "  /* unfitted */\n",
       "  background-color: var(--sklearn-color-unfitted-level-2);\n",
       "}\n",
       "\n",
       "#sk-container-id-5 div.sk-estimator.fitted input.sk-toggleable__control:checked~label.sk-toggleable__label {\n",
       "  /* fitted */\n",
       "  background-color: var(--sklearn-color-fitted-level-2);\n",
       "}\n",
       "\n",
       "#sk-container-id-5 div.sk-label label.sk-toggleable__label,\n",
       "#sk-container-id-5 div.sk-label label {\n",
       "  /* The background is the default theme color */\n",
       "  color: var(--sklearn-color-text-on-default-background);\n",
       "}\n",
       "\n",
       "/* On hover, darken the color of the background */\n",
       "#sk-container-id-5 div.sk-label:hover label.sk-toggleable__label {\n",
       "  color: var(--sklearn-color-text);\n",
       "  background-color: var(--sklearn-color-unfitted-level-2);\n",
       "}\n",
       "\n",
       "/* Label box, darken color on hover, fitted */\n",
       "#sk-container-id-5 div.sk-label.fitted:hover label.sk-toggleable__label.fitted {\n",
       "  color: var(--sklearn-color-text);\n",
       "  background-color: var(--sklearn-color-fitted-level-2);\n",
       "}\n",
       "\n",
       "/* Estimator label */\n",
       "\n",
       "#sk-container-id-5 div.sk-label label {\n",
       "  font-family: monospace;\n",
       "  font-weight: bold;\n",
       "  display: inline-block;\n",
       "  line-height: 1.2em;\n",
       "}\n",
       "\n",
       "#sk-container-id-5 div.sk-label-container {\n",
       "  text-align: center;\n",
       "}\n",
       "\n",
       "/* Estimator-specific */\n",
       "#sk-container-id-5 div.sk-estimator {\n",
       "  font-family: monospace;\n",
       "  border: 1px dotted var(--sklearn-color-border-box);\n",
       "  border-radius: 0.25em;\n",
       "  box-sizing: border-box;\n",
       "  margin-bottom: 0.5em;\n",
       "  /* unfitted */\n",
       "  background-color: var(--sklearn-color-unfitted-level-0);\n",
       "}\n",
       "\n",
       "#sk-container-id-5 div.sk-estimator.fitted {\n",
       "  /* fitted */\n",
       "  background-color: var(--sklearn-color-fitted-level-0);\n",
       "}\n",
       "\n",
       "/* on hover */\n",
       "#sk-container-id-5 div.sk-estimator:hover {\n",
       "  /* unfitted */\n",
       "  background-color: var(--sklearn-color-unfitted-level-2);\n",
       "}\n",
       "\n",
       "#sk-container-id-5 div.sk-estimator.fitted:hover {\n",
       "  /* fitted */\n",
       "  background-color: var(--sklearn-color-fitted-level-2);\n",
       "}\n",
       "\n",
       "/* Specification for estimator info (e.g. \"i\" and \"?\") */\n",
       "\n",
       "/* Common style for \"i\" and \"?\" */\n",
       "\n",
       ".sk-estimator-doc-link,\n",
       "a:link.sk-estimator-doc-link,\n",
       "a:visited.sk-estimator-doc-link {\n",
       "  float: right;\n",
       "  font-size: smaller;\n",
       "  line-height: 1em;\n",
       "  font-family: monospace;\n",
       "  background-color: var(--sklearn-color-background);\n",
       "  border-radius: 1em;\n",
       "  height: 1em;\n",
       "  width: 1em;\n",
       "  text-decoration: none !important;\n",
       "  margin-left: 1ex;\n",
       "  /* unfitted */\n",
       "  border: var(--sklearn-color-unfitted-level-1) 1pt solid;\n",
       "  color: var(--sklearn-color-unfitted-level-1);\n",
       "}\n",
       "\n",
       ".sk-estimator-doc-link.fitted,\n",
       "a:link.sk-estimator-doc-link.fitted,\n",
       "a:visited.sk-estimator-doc-link.fitted {\n",
       "  /* fitted */\n",
       "  border: var(--sklearn-color-fitted-level-1) 1pt solid;\n",
       "  color: var(--sklearn-color-fitted-level-1);\n",
       "}\n",
       "\n",
       "/* On hover */\n",
       "div.sk-estimator:hover .sk-estimator-doc-link:hover,\n",
       ".sk-estimator-doc-link:hover,\n",
       "div.sk-label-container:hover .sk-estimator-doc-link:hover,\n",
       ".sk-estimator-doc-link:hover {\n",
       "  /* unfitted */\n",
       "  background-color: var(--sklearn-color-unfitted-level-3);\n",
       "  color: var(--sklearn-color-background);\n",
       "  text-decoration: none;\n",
       "}\n",
       "\n",
       "div.sk-estimator.fitted:hover .sk-estimator-doc-link.fitted:hover,\n",
       ".sk-estimator-doc-link.fitted:hover,\n",
       "div.sk-label-container:hover .sk-estimator-doc-link.fitted:hover,\n",
       ".sk-estimator-doc-link.fitted:hover {\n",
       "  /* fitted */\n",
       "  background-color: var(--sklearn-color-fitted-level-3);\n",
       "  color: var(--sklearn-color-background);\n",
       "  text-decoration: none;\n",
       "}\n",
       "\n",
       "/* Span, style for the box shown on hovering the info icon */\n",
       ".sk-estimator-doc-link span {\n",
       "  display: none;\n",
       "  z-index: 9999;\n",
       "  position: relative;\n",
       "  font-weight: normal;\n",
       "  right: .2ex;\n",
       "  padding: .5ex;\n",
       "  margin: .5ex;\n",
       "  width: min-content;\n",
       "  min-width: 20ex;\n",
       "  max-width: 50ex;\n",
       "  color: var(--sklearn-color-text);\n",
       "  box-shadow: 2pt 2pt 4pt #999;\n",
       "  /* unfitted */\n",
       "  background: var(--sklearn-color-unfitted-level-0);\n",
       "  border: .5pt solid var(--sklearn-color-unfitted-level-3);\n",
       "}\n",
       "\n",
       ".sk-estimator-doc-link.fitted span {\n",
       "  /* fitted */\n",
       "  background: var(--sklearn-color-fitted-level-0);\n",
       "  border: var(--sklearn-color-fitted-level-3);\n",
       "}\n",
       "\n",
       ".sk-estimator-doc-link:hover span {\n",
       "  display: block;\n",
       "}\n",
       "\n",
       "/* \"?\"-specific style due to the `<a>` HTML tag */\n",
       "\n",
       "#sk-container-id-5 a.estimator_doc_link {\n",
       "  float: right;\n",
       "  font-size: 1rem;\n",
       "  line-height: 1em;\n",
       "  font-family: monospace;\n",
       "  background-color: var(--sklearn-color-background);\n",
       "  border-radius: 1rem;\n",
       "  height: 1rem;\n",
       "  width: 1rem;\n",
       "  text-decoration: none;\n",
       "  /* unfitted */\n",
       "  color: var(--sklearn-color-unfitted-level-1);\n",
       "  border: var(--sklearn-color-unfitted-level-1) 1pt solid;\n",
       "}\n",
       "\n",
       "#sk-container-id-5 a.estimator_doc_link.fitted {\n",
       "  /* fitted */\n",
       "  border: var(--sklearn-color-fitted-level-1) 1pt solid;\n",
       "  color: var(--sklearn-color-fitted-level-1);\n",
       "}\n",
       "\n",
       "/* On hover */\n",
       "#sk-container-id-5 a.estimator_doc_link:hover {\n",
       "  /* unfitted */\n",
       "  background-color: var(--sklearn-color-unfitted-level-3);\n",
       "  color: var(--sklearn-color-background);\n",
       "  text-decoration: none;\n",
       "}\n",
       "\n",
       "#sk-container-id-5 a.estimator_doc_link.fitted:hover {\n",
       "  /* fitted */\n",
       "  background-color: var(--sklearn-color-fitted-level-3);\n",
       "}\n",
       "</style><div id=\"sk-container-id-5\" class=\"sk-top-container\"><div class=\"sk-text-repr-fallback\"><pre>LogisticRegression(max_iter=200)</pre><b>In a Jupyter environment, please rerun this cell to show the HTML representation or trust the notebook. <br />On GitHub, the HTML representation is unable to render, please try loading this page with nbviewer.org.</b></div><div class=\"sk-container\" hidden><div class=\"sk-item\"><div class=\"sk-estimator fitted sk-toggleable\"><input class=\"sk-toggleable__control sk-hidden--visually\" id=\"sk-estimator-id-5\" type=\"checkbox\" checked><label for=\"sk-estimator-id-5\" class=\"sk-toggleable__label fitted sk-toggleable__label-arrow fitted\">&nbsp;&nbsp;LogisticRegression<a class=\"sk-estimator-doc-link fitted\" rel=\"noreferrer\" target=\"_blank\" href=\"https://scikit-learn.org/1.4/modules/generated/sklearn.linear_model.LogisticRegression.html\">?<span>Documentation for LogisticRegression</span></a><span class=\"sk-estimator-doc-link fitted\">i<span>Fitted</span></span></label><div class=\"sk-toggleable__content fitted\"><pre>LogisticRegression(max_iter=200)</pre></div> </div></div></div></div>"
      ],
      "text/plain": [
       "LogisticRegression(max_iter=200)"
      ]
     },
     "execution_count": 48,
     "metadata": {},
     "output_type": "execute_result"
    }
   ],
   "source": [
    "from sklearn.linear_model import LogisticRegression\n",
    "\n",
    "model = LogisticRegression(max_iter=200)\n",
    "model.fit(X_train, y_train)  # entrenamiento"
   ]
  },
  {
   "cell_type": "markdown",
   "metadata": {},
   "source": [
    "## Inspeccionar Parámetros"
   ]
  },
  {
   "cell_type": "code",
   "execution_count": 29,
   "metadata": {},
   "outputs": [
    {
     "data": {
      "text/plain": [
       "array([0, 1, 2, 3, 4, 5, 6, 7, 8, 9])"
      ]
     },
     "execution_count": 29,
     "metadata": {},
     "output_type": "execute_result"
    }
   ],
   "source": [
    "model.classes_"
   ]
  },
  {
   "cell_type": "code",
   "execution_count": 30,
   "metadata": {},
   "outputs": [
    {
     "data": {
      "text/plain": [
       "array([[ 0.        ,  0.00115275, -0.06352295,  0.08733555,  0.06767405,\n",
       "        -0.074551  , -0.13527563, -0.02289004, -0.00002977, -0.03717056,\n",
       "        -0.05868919,  0.18486213,  0.0674554 ,  0.08205096, -0.02985917,\n",
       "        -0.01620958, -0.00000556,  0.05080025,  0.09625158, -0.01360393,\n",
       "        -0.30411453,  0.18094025,  0.09326154, -0.00281284, -0.00000271,\n",
       "         0.11751025,  0.08773913, -0.12237173, -0.40613499, -0.00437655,\n",
       "         0.06154593, -0.00009003,  0.        ,  0.15598625,  0.06749197,\n",
       "        -0.14842164, -0.36433993,  0.04711562,  0.03249441,  0.        ,\n",
       "        -0.00019645, -0.05488053,  0.24592928, -0.10720679, -0.15668509,\n",
       "         0.13083972,  0.0120975 , -0.00012459, -0.00068417, -0.10427802,\n",
       "         0.06053165, -0.01647702,  0.19006737,  0.05446573, -0.02110463,\n",
       "        -0.00925129, -0.00000328, -0.0036859 , -0.09486003,  0.15777606,\n",
       "        -0.04385531, -0.03675103, -0.06412348, -0.04019435],\n",
       "       [ 0.        , -0.00695611, -0.04679302,  0.05024671, -0.74352892,\n",
       "         0.37850842,  0.17814493, -0.00879266, -0.00015921, -0.34800164,\n",
       "        -0.41290646, -0.35851847,  0.23309781, -0.16213098, -0.33410603,\n",
       "        -0.01362581, -0.00007638,  0.29719782, -0.00777901,  0.62662776,\n",
       "         0.27787824, -0.11671254,  0.03082696, -0.00175917, -0.02432644,\n",
       "        -0.15025551,  0.00569418,  0.0232763 ,  0.26679755,  0.05402412,\n",
       "        -0.0323105 , -0.00001355,  0.        ,  0.15411622,  0.1164095 ,\n",
       "        -0.19264131,  0.12135015,  0.10136167, -0.13872461,  0.        ,\n",
       "        -0.000038  , -0.26767176,  0.00859551,  0.33036056,  0.03867847,\n",
       "        -0.20221187, -0.25751124, -0.0320759 , -0.00057138, -0.14313094,\n",
       "        -0.03099718,  0.10857988,  0.29335553,  0.05782746, -0.11420903,\n",
       "         0.11700849, -0.00018007,  0.01609405, -0.18649032,  0.06114094,\n",
       "         0.03585418,  0.04720222,  0.17541996,  0.18507049],\n",
       "       [ 0.        , -0.00763573,  0.03369373,  0.0736457 , -0.02695305,\n",
       "        -0.04213347, -0.01832193, -0.00123026, -0.02046478,  0.06602913,\n",
       "         0.02831596, -0.2436122 ,  0.21496312, -0.05364704,  0.02244411,\n",
       "        -0.00060278, -0.01016594, -0.00626018, -0.04180324, -0.26941636,\n",
       "         0.24585291, -0.02654905,  0.16191291, -0.00018846, -0.00000276,\n",
       "        -0.16339331, -0.47308748, -0.37362647, -0.11011403, -0.02459788,\n",
       "         0.05809951, -0.00000812,  0.        , -0.09196816, -0.21786057,\n",
       "        -0.10387277, -0.02597748, -0.20290969, -0.24893394,  0.        ,\n",
       "        -0.00003517,  0.13772688,  0.06414652,  0.43128979, -0.30395693,\n",
       "        -0.33050111, -0.09836441,  0.01103757,  0.0010563 ,  0.11535788,\n",
       "         0.12270095,  0.46228441,  0.34424962,  0.24385234,  0.13619793,\n",
       "         0.10699412,  0.00036116,  0.01350593,  0.17606296,  0.03203411,\n",
       "         0.06112806,  0.25840625,  0.30724021,  0.1698039 ],\n",
       "       [ 0.        ,  0.11755169, -0.12989357,  0.08661718,  0.43595178,\n",
       "         0.11937412,  0.00132714, -0.00154647, -0.00727596,  0.14997966,\n",
       "         0.20739704,  0.11272657,  0.17284238,  0.18916538,  0.2029562 ,\n",
       "        -0.02062422, -0.00252357, -0.13637858, -0.3575242 , -0.44293533,\n",
       "         0.01798496, -0.23569543,  0.03417513, -0.00120356, -0.00000271,\n",
       "        -0.1954387 , -0.36453065, -0.12480334,  0.24451721, -0.4164382 ,\n",
       "        -0.2886239 , -0.00000812,  0.        , -0.11721444, -0.14505362,\n",
       "         0.06977259,  0.01359255, -0.1004473 ,  0.03155595,  0.        ,\n",
       "        -0.00003516, -0.09871148, -0.24588106, -0.5159561 ,  0.08083569,\n",
       "         0.25061668,  0.25699947, -0.01134586, -0.00003759, -0.11820188,\n",
       "        -0.06381654, -0.18881534,  0.02555699,  0.22189302,  0.39473293,\n",
       "        -0.13909759, -0.00000351,  0.07332171,  0.27021725,  0.07003837,\n",
       "         0.0589432 , -0.00960968, -0.0098249 , -0.15691733],\n",
       "       [ 0.        , -0.02426296, -0.08175746, -0.35244527, -0.18494617,\n",
       "        -0.31115861, -0.22801639,  0.07236445, -0.00002154,  0.07046583,\n",
       "        -0.2464249 , -0.21066517, -0.38872191, -0.16201231, -0.13250782,\n",
       "         0.06594136, -0.00000617,  0.23708529,  0.07025646,  0.16601194,\n",
       "        -0.0072411 ,  0.0494788 , -0.07128007,  0.05822735,  0.02436483,\n",
       "        -0.01562425,  0.41304966,  0.15691643,  0.13678212,  0.10758298,\n",
       "         0.41299139,  0.0031805 ,  0.        ,  0.14045682,  0.16864157,\n",
       "        -0.13857764,  0.23413744,  0.14741301,  0.46634039,  0.        ,\n",
       "         0.00054369,  0.50087407, -0.08656994,  0.63806854,  0.45004562,\n",
       "         0.1248321 ,  0.14232032, -0.00171041,  0.00110418,  0.26589314,\n",
       "        -0.1898784 ,  0.05291495,  0.04227509, -0.29089978, -0.21881575,\n",
       "        -0.00276999, -0.00000429, -0.04171083,  0.01230016, -0.23166134,\n",
       "        -0.10240495, -0.17708473, -0.06378048, -0.0025545 ],\n",
       "       [ 0.        ,  0.06634621,  0.42779959, -0.16184475,  0.07966215,\n",
       "         0.26895084,  0.38827668, -0.0696834 , -0.00010387,  0.01957877,\n",
       "         0.28214064,  0.1602112 ,  0.07610447, -0.12187824, -0.0755638 ,\n",
       "        -0.01743086, -0.00007095, -0.04161205,  0.12765977, -0.05832621,\n",
       "        -0.44625548, -0.51215763, -0.42164523, -0.00355393, -0.00001466,\n",
       "         0.190142  ,  0.28510809, -0.15509931,  0.26872772,  0.01618034,\n",
       "        -0.26260035, -0.0000099 ,  0.        , -0.06442072,  0.08845515,\n",
       "        -0.22001909, -0.02059929, -0.08482752,  0.01060112,  0.        ,\n",
       "        -0.00003521, -0.18755158, -0.1324817 , -0.27625182, -0.11992171,\n",
       "         0.15066581, -0.09080191, -0.00014093, -0.00003567, -0.00092779,\n",
       "        -0.05953718, -0.09599124, -0.09977036, -0.05406803, -0.05087515,\n",
       "        -0.01446129, -0.00000283,  0.02518029,  0.39082642,  0.2061185 ,\n",
       "        -0.08222789,  0.13164576, -0.02454542, -0.05081366],\n",
       "       [ 0.        , -0.0038774 , -0.15735612, -0.02420146, -0.11599401,\n",
       "        -0.15638543, -0.05782883, -0.00050901, -0.00040371, -0.1193219 ,\n",
       "        -0.19929017,  0.06710908, -0.37144303,  0.07933354,  0.05986489,\n",
       "        -0.00040959, -0.00019697, -0.08741882,  0.17403137,  0.04008562,\n",
       "        -0.22334548, -0.31181777, -0.06300892, -0.00025324, -0.0000034 ,\n",
       "         0.15388042,  0.02691579,  0.15402288, -0.18779714, -0.12695623,\n",
       "        -0.16136473, -0.00003512,  0.        ,  0.15256366,  0.13056763,\n",
       "         0.25188926, -0.06836389,  0.01997014,  0.13319664,  0.        ,\n",
       "        -0.00009751, -0.12988809,  0.417046  ,  0.11643361,  0.17519935,\n",
       "         0.12927713,  0.12671989,  0.03700806, -0.00025143, -0.11454235,\n",
       "         0.16035586,  0.08124738, -0.13144197,  0.22911723,  0.05258124,\n",
       "        -0.09886458, -0.00000276, -0.00659934, -0.17256758, -0.10886485,\n",
       "         0.06891518,  0.05866912, -0.06831081, -0.06447421],\n",
       "       [ 0.        ,  0.06790432,  0.02171287,  0.12798026,  0.14738133,\n",
       "         0.04419988,  0.14756143,  0.0844418 , -0.00001898,  0.12490697,\n",
       "         0.18308989,  0.11220716,  0.4870686 , -0.12214218,  0.02329447,\n",
       "         0.04443488, -0.00000544, -0.29192252, -0.19859505, -0.18929961,\n",
       "         0.07398282,  0.29025767,  0.1285445 ,  0.00309056, -0.00000362,\n",
       "        -0.10213734, -0.05654561, -0.2604995 , -0.0274357 ,  0.12778486,\n",
       "         0.22988877, -0.00214772,  0.        ,  0.14137585,  0.054393  ,\n",
       "        -0.06053153,  0.16814324,  0.22086926,  0.19694618,  0.        ,\n",
       "        -0.00003518, -0.00154251, -0.02135204,  0.02025955,  0.11768214,\n",
       "        -0.07925663, -0.04187971, -0.00012221, -0.00004611, -0.06099084,\n",
       "        -0.01506132,  0.09662326, -0.25758494, -0.36678459, -0.13320036,\n",
       "        -0.00095325, -0.00000615,  0.01941107, -0.06150161, -0.1722472 ,\n",
       "        -0.2300522 , -0.27403258, -0.07855833, -0.00386006],\n",
       "       [ 0.        , -0.05862129,  0.01496757, -0.07470809,  0.1322829 ,\n",
       "        -0.11678743, -0.23609188, -0.01677426,  0.02851873, -0.01464027,\n",
       "         0.09631716,  0.06122612, -0.32985749,  0.22665144,  0.09897373,\n",
       "        -0.00360422,  0.0130572 , -0.10841749,  0.16824898, -0.00112929,\n",
       "         0.11151863,  0.16345361,  0.05892349, -0.00165388, -0.00000577,\n",
       "         0.16287998, -0.12955228,  0.35734127, -0.24162983,  0.03123769,\n",
       "         0.02037026, -0.00003442,  0.        , -0.06219378, -0.11654623,\n",
       "         0.34712401,  0.065487  , -0.18909484, -0.585936  ,  0.        ,\n",
       "        -0.00003585,  0.08487624,  0.15236308,  0.11549696,  0.14371255,\n",
       "        -0.00572125,  0.20684602, -0.0026038 , -0.00049771,  0.03337908,\n",
       "         0.15761344, -0.27915453, -0.2377158 ,  0.17183672,  0.06253332,\n",
       "        -0.02343942, -0.00015516,  0.05185281, -0.30059909, -0.1069855 ,\n",
       "         0.24464916, -0.08899131, -0.05363632, -0.05241539],\n",
       "       [ 0.        , -0.15160148, -0.01885063,  0.18737417,  0.20846996,\n",
       "        -0.11001733, -0.03977551, -0.03538016, -0.00004091,  0.08817401,\n",
       "         0.12005003,  0.11445358, -0.16150934,  0.04460943,  0.16450342,\n",
       "        -0.03786919, -0.00000622,  0.08692628, -0.03074665,  0.14198542,\n",
       "         0.25373902,  0.51880208,  0.0482897 , -0.04989282, -0.00000276,\n",
       "         0.00243646,  0.20520916,  0.34484347,  0.0562871 ,  0.23555887,\n",
       "        -0.03799639, -0.00083354,  0.        , -0.4087017 , -0.1464984 ,\n",
       "         0.19527812, -0.12342979,  0.04054965,  0.10245985,  0.        ,\n",
       "        -0.00003516,  0.01676875, -0.40179565, -0.75249429, -0.4255901 ,\n",
       "        -0.16854057, -0.25642594,  0.00007806, -0.00003641,  0.1274417 ,\n",
       "        -0.14191128, -0.22121175, -0.16899153, -0.26724009, -0.10784049,\n",
       "         0.0648348 , -0.00000311, -0.14736979, -0.03338817,  0.09265091,\n",
       "        -0.01094942,  0.09054597, -0.11988043,  0.01635512]])"
      ]
     },
     "execution_count": 30,
     "metadata": {},
     "output_type": "execute_result"
    }
   ],
   "source": [
    "# coef_[i, j] es el score que aporte el feature j a la clase i\n",
    "model.coef_"
   ]
  },
  {
   "cell_type": "code",
   "execution_count": 31,
   "metadata": {},
   "outputs": [
    {
     "data": {
      "text/plain": [
       "array([0., 0., 0., 0., 0., 0., 0., 0., 0., 0.])"
      ]
     },
     "execution_count": 31,
     "metadata": {},
     "output_type": "execute_result"
    }
   ],
   "source": [
    "model.coef_[:,0]  # pixel esquina superior izquierda"
   ]
  },
  {
   "cell_type": "code",
   "execution_count": 32,
   "metadata": {},
   "outputs": [
    {
     "data": {
      "text/plain": [
       "array([ 0.08733555,  0.05024671,  0.0736457 ,  0.08661718, -0.35244527,\n",
       "       -0.16184475, -0.02420146,  0.12798026, -0.07470809,  0.18737417])"
      ]
     },
     "execution_count": 32,
     "metadata": {},
     "output_type": "execute_result"
    }
   ],
   "source": [
    "model.coef_[:,3]  # un pixel arriba al medio"
   ]
  },
  {
   "cell_type": "code",
   "execution_count": 33,
   "metadata": {},
   "outputs": [
    {
     "data": {
      "text/plain": [
       "array([-0.14842164, -0.19264131, -0.10387277,  0.06977259, -0.13857764,\n",
       "       -0.22001909,  0.25188926, -0.06053153,  0.34712401,  0.19527812])"
      ]
     },
     "execution_count": 33,
     "metadata": {},
     "output_type": "execute_result"
    }
   ],
   "source": [
    "model.coef_[:,3 + 4 * 8]  # un pixel del medio"
   ]
  },
  {
   "cell_type": "code",
   "execution_count": 34,
   "metadata": {},
   "outputs": [
    {
     "data": {
      "text/plain": [
       "array([ 0.00449417, -0.1591234 ,  0.01398409,  0.00224523,  0.1013425 ,\n",
       "        0.00459976, -0.00608906,  0.02186402,  0.11360994, -0.09692726])"
      ]
     },
     "execution_count": 34,
     "metadata": {},
     "output_type": "execute_result"
    }
   ],
   "source": [
    "model.intercept_  # bias"
   ]
  },
  {
   "cell_type": "markdown",
   "metadata": {},
   "source": [
    "## Evaluar"
   ]
  },
  {
   "cell_type": "code",
   "execution_count": 35,
   "metadata": {},
   "outputs": [
    {
     "data": {
      "text/plain": [
       "0.9694444444444444"
      ]
     },
     "execution_count": 35,
     "metadata": {},
     "output_type": "execute_result"
    }
   ],
   "source": [
    "from sklearn.metrics import accuracy_score\n",
    "\n",
    "y_pred = model.predict(X_val)\n",
    "accuracy_score(y_val, y_pred)"
   ]
  },
  {
   "cell_type": "markdown",
   "metadata": {},
   "source": [
    "## Predecir"
   ]
  },
  {
   "cell_type": "markdown",
   "metadata": {},
   "source": [
    "Definimos un nuevo dato de entrada para ver como se comporta el clasificador"
   ]
  },
  {
   "cell_type": "code",
   "execution_count": 36,
   "metadata": {},
   "outputs": [],
   "source": [
    "x = np.array([[ 0.,  0.,  0.,  16., 16.,  0.,  0.,  0.],\n",
    "              [ 0.,  0.,  0.,  16., 16.,  0.,  0.,  0.],\n",
    "              [ 0.,  0.,  0.,  16., 16.,  0.,  0.,  0.],\n",
    "              [ 0.,  0.,  0.,  16., 16.,  0.,  0.,  0.],\n",
    "              [ 0.,  0.,  0.,  16., 16.,  0.,  0.,  0.],\n",
    "              [ 0.,  0.,  0.,  16., 16.,  0.,  0.,  0.],\n",
    "              [ 0.,  0.,  0.,  16., 16.,  0.,  0.,  0.],\n",
    "              [ 0.,  0.,  0.,  16., 16.,  0.,  0.,  0.]])"
   ]
  },
  {
   "cell_type": "code",
   "execution_count": 37,
   "metadata": {},
   "outputs": [
    {
     "data": {
      "text/plain": [
       "<matplotlib.image.AxesImage at 0x2153493ead0>"
      ]
     },
     "execution_count": 37,
     "metadata": {},
     "output_type": "execute_result"
    },
    {
     "data": {
      "image/png": "[encoded data removed]",
      "text/plain": [
       "<Figure size 640x480 with 1 Axes>"
      ]
     },
     "metadata": {},
     "output_type": "display_data"
    }
   ],
   "source": [
    "plt.imshow(x,cmap=plt.cm.gray_r)"
   ]
  },
  {
   "cell_type": "code",
   "execution_count": 38,
   "metadata": {},
   "outputs": [],
   "source": [
    "x = x.ravel()  # aplanar la matriz en un vector"
   ]
  },
  {
   "cell_type": "markdown",
   "metadata": {},
   "source": [
    "Haciendo uso del modelo entrenado veamos como lo clasifica:"
   ]
  },
  {
   "cell_type": "code",
   "execution_count": 39,
   "metadata": {},
   "outputs": [
    {
     "data": {
      "text/plain": [
       "array([1])"
      ]
     },
     "execution_count": 39,
     "metadata": {},
     "output_type": "execute_result"
    }
   ],
   "source": [
    "# Clase más probable:\n",
    "model.predict([x])"
   ]
  },
  {
   "cell_type": "markdown",
   "metadata": {},
   "source": [
    "También podemos ver que probabilidad le asigno a cada clase:"
   ]
  },
  {
   "cell_type": "code",
   "execution_count": 40,
   "metadata": {},
   "outputs": [
    {
     "data": {
      "text/plain": [
       "array([[0.        , 0.99999219, 0.00000578, 0.00000005, 0.0000006 ,\n",
       "        0.        , 0.        , 0.0000001 , 0.00000128, 0.        ]])"
      ]
     },
     "execution_count": 40,
     "metadata": {},
     "output_type": "execute_result"
    }
   ],
   "source": [
    "# Probabilidad de cada clase (resultado del softmax):\n",
    "model.predict_proba([x])"
   ]
  },
  {
   "cell_type": "code",
   "execution_count": 41,
   "metadata": {},
   "outputs": [
    {
     "data": {
      "text/plain": [
       "1.0000000000000002"
      ]
     },
     "execution_count": 41,
     "metadata": {},
     "output_type": "execute_result"
    }
   ],
   "source": [
    "model.predict_proba([x]).sum()"
   ]
  },
  {
   "cell_type": "code",
   "execution_count": 42,
   "metadata": {},
   "outputs": [
    {
     "data": {
      "text/plain": [
       "array([[-14.84415243,  18.60176254,   6.54067915,   1.8721551 ,\n",
       "          4.26915989, -15.1231304 ,  -4.43088054,   2.48070686,\n",
       "          5.03613905,  -4.40243921]])"
      ]
     },
     "execution_count": 42,
     "metadata": {},
     "output_type": "execute_result"
    }
   ],
   "source": [
    "# \"Score\" para cada clase (antes del softmax):\n",
    "model.decision_function([x])"
   ]
  },
  {
   "cell_type": "code",
   "execution_count": 43,
   "metadata": {},
   "outputs": [
    {
     "data": {
      "text/plain": [
       "array([-14.84415243,  18.60176254,   6.54067915,   1.8721551 ,\n",
       "         4.26915989, -15.1231304 ,  -4.43088054,   2.48070686,\n",
       "         5.03613905,  -4.40243921])"
      ]
     },
     "execution_count": 43,
     "metadata": {},
     "output_type": "execute_result"
    }
   ],
   "source": [
    "# El mismo score a mano:\n",
    "model.coef_.dot(x) + model.intercept_"
   ]
  },
  {
   "cell_type": "markdown",
   "metadata": {},
   "source": [
    "Podemos ver las salidas de las distintas funciones softmax para el dato de entrada x"
   ]
  },
  {
   "cell_type": "code",
   "execution_count": 45,
   "metadata": {},
   "outputs": [
    {
     "data": {
      "image/png": "[encoded data removed]",
      "text/plain": [
       "<Figure size 640x480 with 1 Axes>"
      ]
     },
     "metadata": {},
     "output_type": "display_data"
    }
   ],
   "source": [
    "clases = model.classes_\n",
    "fig, ax = plt.subplots()\n",
    "\n",
    "scatter = ax.scatter(model.decision_function([x]), model.predict_proba([x]), c=clases, cmap=\"tab10\")\n",
    "#plt.yscale(\"log\")\n",
    "\n",
    "# produce a legend with the unique colors from the scatter\n",
    "legend1 = ax.legend(*scatter.legend_elements(num=10), title=\"Clases\")\n",
    "ax.add_artist(legend1)\n",
    "plt.xlabel(\"w*x + bias\")\n",
    "plt.ylabel(\"Probabilidad - Salida SoftMax\")\n",
    "ax.grid(True)\n",
    "plt.show()"
   ]
  },
  {
   "cell_type": "markdown",
   "metadata": {},
   "source": [
    "## Ejercicios\n",
    "\n",
    "1. Calcular el softmax a mano para un ejemplo y verificar que da igual que predict_proba.\n",
    "2. Buscar en el conjunto de test una imagen mal clasificada. Graficarla. ¿Qué tan lejos estuvo de ser correctamente clasificada?\n",
    "3. Con la imagen anterior, ¿qué píxeles influyeron más en la clasificación incorrecta? Intentar modificar los valores para que la clasifiación sea correcta.\n",
    "4. Buscar en el conjunto de test la imagen **peor** clasificada. Graficarla. ¿Qué tan difícil es para un humano identificar el dígito?"
   ]
  }
 ],
 "metadata": {
  "kernelspec": {
   "display_name": "Python 3 (ipykernel)",
   "language": "python",
   "name": "python3"
  },
  "language_info": {
   "codemirror_mode": {
    "name": "ipython",
    "version": 3
   },
   "file_extension": ".py",
   "mimetype": "text/x-python",
   "name": "python",
   "nbconvert_exporter": "python",
   "pygments_lexer": "ipython3",
   "version": "3.11.8"
  }
 },
 "nbformat": 4,
 "nbformat_minor": 4
}
